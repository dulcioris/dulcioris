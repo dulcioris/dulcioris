{
  "nbformat": 4,
  "nbformat_minor": 0,
  "metadata": {
    "colab": {
      "provenance": [],
      "include_colab_link": true
    },
    "kernelspec": {
      "name": "python3",
      "display_name": "Python 3"
    },
    "language_info": {
      "name": "python"
    }
  },
  "cells": [
    {
      "cell_type": "markdown",
      "metadata": {
        "id": "view-in-github",
        "colab_type": "text"
      },
      "source": [
        "<a href=\"https://colab.research.google.com/github/dulcioris/dulcioris/blob/main/Pr2_AMN.ipynb\" target=\"_parent\"><img src=\"https://colab.research.google.com/assets/colab-badge.svg\" alt=\"Open In Colab\"/></a>"
      ]
    },
    {
      "cell_type": "markdown",
      "source": [
        "#Problema 1"
      ],
      "metadata": {
        "id": "YDFz6JamwaSi"
      }
    },
    {
      "cell_type": "markdown",
      "source": [
        "## a) Considerando lo anterior, determina cual de los elementos del conjunto A puede representarse de manera exacta en una computadora."
      ],
      "metadata": {
        "id": "hl31WupRweSx"
      }
    },
    {
      "cell_type": "code",
      "source": [
        "for n in range(1, 10):\n",
        "    x = n / 10\n",
        "    num, denom = x.as_integer_ratio()\n",
        "    print(f\"{x} -> {num}/{denom} (Exacto: {denom & (denom - 1) == 0})\")"
      ],
      "metadata": {
        "colab": {
          "base_uri": "https://localhost:8080/"
        },
        "id": "NUKpSZXHwn3w",
        "outputId": "7bf6a834-a1ae-47c7-960f-ed21b0bc791c"
      },
      "execution_count": 1,
      "outputs": [
        {
          "output_type": "stream",
          "name": "stdout",
          "text": [
            "0.1 -> 3602879701896397/36028797018963968 (Exacto: True)\n",
            "0.2 -> 3602879701896397/18014398509481984 (Exacto: True)\n",
            "0.3 -> 5404319552844595/18014398509481984 (Exacto: True)\n",
            "0.4 -> 3602879701896397/9007199254740992 (Exacto: True)\n",
            "0.5 -> 1/2 (Exacto: True)\n",
            "0.6 -> 5404319552844595/9007199254740992 (Exacto: True)\n",
            "0.7 -> 3152519739159347/4503599627370496 (Exacto: True)\n",
            "0.8 -> 3602879701896397/4503599627370496 (Exacto: True)\n",
            "0.9 -> 8106479329266893/9007199254740992 (Exacto: True)\n"
          ]
        }
      ]
    },
    {
      "cell_type": "code",
      "source": [
        "# Lista de elementos de A\n",
        "A = [n / 10 for n in range(1, 10)]\n",
        "\n",
        "# Función para verificar representación exacta\n",
        "def es_exacto(numero):\n",
        "    numerador, denominador = numero.as_integer_ratio()\n",
        "    # Verifica si el denominador es una potencia de 2\n",
        "    return (denominador & (denominador - 1)) == 0\n",
        "\n",
        "# Verificar cada elemento de A\n",
        "resultados = [(n, es_exacto(n)) for n in A]\n",
        "\n",
        "# Mostrar resultados\n",
        "for valor, exacto in resultados:\n",
        "    print(f\"{valor}: {'Exacto' if exacto else 'No exacto'}\")"
      ],
      "metadata": {
        "colab": {
          "base_uri": "https://localhost:8080/"
        },
        "id": "J-iRr-zt-GJ3",
        "outputId": "e33113f9-ff2e-4ff5-c872-34117dc41d78"
      },
      "execution_count": 3,
      "outputs": [
        {
          "output_type": "stream",
          "name": "stdout",
          "text": [
            "0.1: Exacto\n",
            "0.2: Exacto\n",
            "0.3: Exacto\n",
            "0.4: Exacto\n",
            "0.5: Exacto\n",
            "0.6: Exacto\n",
            "0.7: Exacto\n",
            "0.8: Exacto\n",
            "0.9: Exacto\n"
          ]
        }
      ]
    },
    {
      "cell_type": "markdown",
      "source": [
        "##b) Determina el valor mínimo de  n  para el cual el número mostrado en Python usando la función format() es distinto del valor real de los elementos de  A  que no pueden representarse de forma exacta."
      ],
      "metadata": {
        "id": "YIFnPoifxHQZ"
      }
    },
    {
      "cell_type": "code",
      "source": [
        "# Lista de elementos de A\n",
        "A = [n / 10 for n in range(1, 10)]\n",
        "\n",
        "# Verificar usando format() si el valor mostrado es igual al real\n",
        "for n, valor in enumerate(A, start=1):\n",
        "    formateado = format(valor, '.17f')  # Usando 17 decimales de precisión para 64 bits\n",
        "    if formateado != f'{valor:.17f}':   # Comparando las cadenas formateadas\n",
        "        print(f\"El valor mínimo de n es {n} para el cual format() difiere del valor real.\")\n",
        "        break\n",
        "else:\n",
        "    print(\"Todos los valores coinciden.\")"
      ],
      "metadata": {
        "colab": {
          "base_uri": "https://localhost:8080/"
        },
        "id": "HjTetYCq_HAu",
        "outputId": "ba3359d0-8104-4984-eef2-eb65be626fe2"
      },
      "execution_count": 12,
      "outputs": [
        {
          "output_type": "stream",
          "name": "stdout",
          "text": [
            "Todos los valores coinciden.\n"
          ]
        }
      ]
    },
    {
      "cell_type": "markdown",
      "source": [
        "##c) Utiliza tu resultado del inciso anterior para determinar el error absoluto y relativo para cada uno de los elementos de  A ."
      ],
      "metadata": {
        "id": "D39CrSfHxlmt"
      }
    },
    {
      "cell_type": "code",
      "source": [
        "for n in range(1, 10):\n",
        "    x = n / 10\n",
        "    formatted_x = float(format(x, '.17f'))\n",
        "    error_absoluto = abs(x - formatted_x)\n",
        "    error_relativo = error_absoluto / abs(x) if x != 0 else 0\n",
        "    print(f\"{x} -> Error Absoluto: {error_absoluto}, Error Relativo: {error_relativo}\")"
      ],
      "metadata": {
        "colab": {
          "base_uri": "https://localhost:8080/"
        },
        "id": "4Eyq6O1P_U9h",
        "outputId": "c691f958-64ec-4845-8fb0-200d63c1027b"
      },
      "execution_count": 13,
      "outputs": [
        {
          "output_type": "stream",
          "name": "stdout",
          "text": [
            "0.1 -> Error Absoluto: 0.0, Error Relativo: 0.0\n",
            "0.2 -> Error Absoluto: 0.0, Error Relativo: 0.0\n",
            "0.3 -> Error Absoluto: 0.0, Error Relativo: 0.0\n",
            "0.4 -> Error Absoluto: 0.0, Error Relativo: 0.0\n",
            "0.5 -> Error Absoluto: 0.0, Error Relativo: 0.0\n",
            "0.6 -> Error Absoluto: 0.0, Error Relativo: 0.0\n",
            "0.7 -> Error Absoluto: 0.0, Error Relativo: 0.0\n",
            "0.8 -> Error Absoluto: 0.0, Error Relativo: 0.0\n",
            "0.9 -> Error Absoluto: 0.0, Error Relativo: 0.0\n"
          ]
        }
      ]
    },
    {
      "cell_type": "markdown",
      "source": [
        "#Problema 2"
      ],
      "metadata": {
        "id": "ntE5zf70xyJn"
      }
    },
    {
      "cell_type": "markdown",
      "source": [
        "##a) Escribe una función en Python que calcule el promedio y la varianza de un arreglo."
      ],
      "metadata": {
        "id": "TAJ30OsNx4ci"
      }
    },
    {
      "cell_type": "code",
      "source": [
        "def calcular_promedio_varianza(arr):\n",
        "    suma = 0\n",
        "    suma_cuadrados = 0\n",
        "    n = len(arr)\n",
        "\n",
        "    # Itera sobre los elementos del arreglo\n",
        "    for x in arr:\n",
        "        suma += x\n",
        "        suma_cuadrados += x ** 2\n",
        "\n",
        "    # Calcula el promedio\n",
        "    promedio = suma / n\n",
        "\n",
        "    # Calcula la varianza\n",
        "    varianza = (suma_cuadrados / n) - (promedio ** 2)\n",
        "\n",
        "    print(f\"Promedio: {promedio}\")\n",
        "    print(f\"Varianza: {varianza}\")\n",
        "    return promedio, varianza\n",
        "\n",
        "# Crear el arreglo aleatorio usando numpy\n",
        "import numpy as np\n",
        "\n",
        "arr = np.random.uniform(10000000, 10000000.06, 100000)\n",
        "\n",
        "# Llamar a la función con el arreglo generado\n",
        "promedio, varianza = calcular_promedio_varianza(arr)"
      ],
      "metadata": {
        "colab": {
          "base_uri": "https://localhost:8080/"
        },
        "id": "uRNDK37Q_esL",
        "outputId": "0129e1ef-e130-4b74-8dba-8f3776a913b5"
      },
      "execution_count": 14,
      "outputs": [
        {
          "output_type": "stream",
          "name": "stdout",
          "text": [
            "Promedio: 10000000.02997933\n",
            "Varianza: -0.78125\n"
          ]
        }
      ]
    },
    {
      "cell_type": "markdown",
      "source": [
        "Comparación con numpy"
      ],
      "metadata": {
        "id": "6-YugvSLyF1p"
      }
    },
    {
      "cell_type": "code",
      "source": [
        "# Calcula el promedio y la varianza usando numpy\n",
        "promedio_numpy = np.mean(arr)\n",
        "varianza_numpy = np.var(arr)\n",
        "\n",
        "print(f\"Promedio con NumPy: {promedio_numpy}\")\n",
        "print(f\"Varianza con NumPy: {varianza_numpy}\")\n",
        "\n",
        "# Comparación de resultados\n",
        "diferencia_promedio = abs(promedio - promedio_numpy)\n",
        "diferencia_varianza = abs(varianza - varianza_numpy)\n",
        "\n",
        "print(f\"Diferencia en Promedio: {diferencia_promedio}\")\n",
        "print(f\"Diferencia en Varianza: {diferencia_varianza}\")"
      ],
      "metadata": {
        "colab": {
          "base_uri": "https://localhost:8080/"
        },
        "id": "J10ax39-_hJG",
        "outputId": "8e125b15-77d1-4401-bcbe-fd9f7f03fc1c"
      },
      "execution_count": 15,
      "outputs": [
        {
          "output_type": "stream",
          "name": "stdout",
          "text": [
            "Promedio con NumPy: 10000000.02997927\n",
            "Varianza con NumPy: 0.0003002145998956093\n",
            "Diferencia en Promedio: 5.960464477539063e-08\n",
            "Diferencia en Varianza: 0.7815502145998956\n"
          ]
        }
      ]
    },
    {
      "cell_type": "markdown",
      "source": [
        "##b) Cálculo de módulos y explicación del resultado"
      ],
      "metadata": {
        "id": "q21SsDhuyO-6"
      }
    },
    {
      "cell_type": "code",
      "source": [
        "# Cálculos solicitados\n",
        "mod_1 = 13.716 % 4.572\n",
        "mod_2 = 16.6461 % 5.5487\n",
        "\n",
        "print(f\"13.716 % 4.572 = {mod_1}\")\n",
        "print(f\"16.6461 % 5.5487 = {mod_2}\")"
      ],
      "metadata": {
        "colab": {
          "base_uri": "https://localhost:8080/"
        },
        "id": "Wf67_9zG_n_O",
        "outputId": "1c39bf66-e3da-45aa-8a55-5c139e7e42dd"
      },
      "execution_count": 16,
      "outputs": [
        {
          "output_type": "stream",
          "name": "stdout",
          "text": [
            "13.716 % 4.572 = 4.571999999999999\n",
            "16.6461 % 5.5487 = 0.0\n"
          ]
        }
      ]
    },
    {
      "cell_type": "markdown",
      "source": [
        "Aunque $3 \\times 4.572 = 13.716$ y $3 \\times 5.5487 = 16.6461$, al calcular los módulos obtuve resultados mayores a 1 por las limitaciones de los números de punto flotante. Esto ocurre porque las operaciones de multiplicación y división no son exactas para todos los números en la aritmética de punto flotante."
      ],
      "metadata": {
        "id": "PZhUew5Ly1qe"
      }
    },
    {
      "cell_type": "markdown",
      "source": [
        "Otro ejemplo de un par de números podría ser  $x = 0.1$ y  $y = 0.3$. En este caso, aunque  $y = 3 \\times x$ , la operación $y \\% x$  no da exactamente 0 debido a las imprecisiones:"
      ],
      "metadata": {
        "id": "D_0XdkCxzZRz"
      }
    },
    {
      "cell_type": "code",
      "source": [
        "x = 0.1\n",
        "y = 0.3\n",
        "print(f\"0.3 % 0.1 = {y % x}\")  # Este no será exactamente 0"
      ],
      "metadata": {
        "colab": {
          "base_uri": "https://localhost:8080/"
        },
        "id": "-xD2NZTi_t27",
        "outputId": "4fdad6d0-a309-44e1-cd66-dacc9ac326ff"
      },
      "execution_count": 17,
      "outputs": [
        {
          "output_type": "stream",
          "name": "stdout",
          "text": [
            "0.3 % 0.1 = 0.09999999999999998\n"
          ]
        }
      ]
    },
    {
      "cell_type": "markdown",
      "source": [
        "#Problema 3"
      ],
      "metadata": {
        "id": "ZKRmCBX0zyxF"
      }
    },
    {
      "cell_type": "markdown",
      "source": [
        "##a) Proponer una forma de escribir la comparación para que el resultado sea True"
      ],
      "metadata": {
        "id": "m6lDCbMrz0p9"
      }
    },
    {
      "cell_type": "code",
      "source": [
        "import math\n",
        "\n",
        "# Comparación usando math.isclose()\n",
        "resultado = math.isclose(0.1 + 0.1 + 0.1, 0.3)\n",
        "print(resultado)  # Esto imprimirá True"
      ],
      "metadata": {
        "colab": {
          "base_uri": "https://localhost:8080/"
        },
        "id": "l2DNjfxA_0DC",
        "outputId": "6cd6b5b4-bf66-4c0c-a703-0024a972b78d"
      },
      "execution_count": 18,
      "outputs": [
        {
          "output_type": "stream",
          "name": "stdout",
          "text": [
            "True\n"
          ]
        }
      ]
    },
    {
      "cell_type": "code",
      "source": [
        "# Definir una pequeña tolerancia\n",
        "epsilon = 1e-9\n",
        "\n",
        "# Comparación manual con margen de error\n",
        "resultado = abs((0.1 + 0.1 + 0.1) - 0.3) < epsilon\n",
        "print(resultado)  # Esto también imprimirá True"
      ],
      "metadata": {
        "colab": {
          "base_uri": "https://localhost:8080/"
        },
        "id": "z5IOZFTE_2Vx",
        "outputId": "4039fae3-7a8a-4ab7-9685-da3275943d8b"
      },
      "execution_count": 19,
      "outputs": [
        {
          "output_type": "stream",
          "name": "stdout",
          "text": [
            "True\n"
          ]
        }
      ]
    },
    {
      "cell_type": "markdown",
      "source": [
        "##b) Considera el siguiente código"
      ],
      "metadata": {
        "id": "5dib8qo70TD-"
      }
    },
    {
      "cell_type": "markdown",
      "source": [
        "El bucle while a != 0: nunca termina porque a nunca será exactamente igual a 0 debido a las imprecisiones de punto flotante en las operaciones de resta sucesiva con a -= 0.001. La variable a se acercará infinitamente a cero, pero no lo alcanzará exactamente, lo cual hace que la condición a != 0 siempre sea verdadera."
      ],
      "metadata": {
        "id": "5gmI_s5P09CQ"
      }
    },
    {
      "cell_type": "code",
      "source": [
        "a = 1000\n",
        "while a > 0:  # Cambiar la comparación\n",
        "    x = a * n\n",
        "    a -= 0.001"
      ],
      "metadata": {
        "id": "4Hg3pmu5ABn1"
      },
      "execution_count": 22,
      "outputs": []
    }
  ]
}