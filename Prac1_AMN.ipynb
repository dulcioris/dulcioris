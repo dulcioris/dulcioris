{
  "nbformat": 4,
  "nbformat_minor": 0,
  "metadata": {
    "colab": {
      "provenance": [],
      "authorship_tag": "ABX9TyMKrXFSOJnalYUYsCkUkIQR",
      "include_colab_link": true
    },
    "kernelspec": {
      "name": "python3",
      "display_name": "Python 3"
    },
    "language_info": {
      "name": "python"
    }
  },
  "cells": [
    {
      "cell_type": "markdown",
      "metadata": {
        "id": "view-in-github",
        "colab_type": "text"
      },
      "source": [
        "<a href=\"https://colab.research.google.com/github/dulcioris/dulcioris/blob/main/Prac1_AMN.ipynb\" target=\"_parent\"><img src=\"https://colab.research.google.com/assets/colab-badge.svg\" alt=\"Open In Colab\"/></a>"
      ]
    },
    {
      "cell_type": "markdown",
      "source": [
        "# Creando el código"
      ],
      "metadata": {
        "id": "HfYeLXgIBmGt"
      }
    },
    {
      "cell_type": "code",
      "execution_count": null,
      "metadata": {
        "id": "TCuMn7GY-rk-"
      },
      "outputs": [],
      "source": [
        "import numpy as np\n",
        "\n",
        "def inversa_matriz(M):\n",
        "    n = M.shape[0]\n",
        "\n",
        "    # Paso a: Definir el arreglo [M|I]\n",
        "    I = np.identity(n)\n",
        "    MI = np.concatenate((M, I), axis=1)\n",
        "\n",
        "    # Paso b: Convertir el primer elemento de la primera fila en 1\n",
        "    for i in range(n):\n",
        "        # Dividir el renglón i por el primer elemento para hacer M[i,i] = 1\n",
        "        MI[i, :] = MI[i, :] / MI[i, i]\n",
        "\n",
        "        # Paso c y d: Eliminar los elementos debajo del primer elemento en la columna i\n",
        "        for j in range(i+1, n):\n",
        "            MI[j, :] = MI[j, :] - MI[j, i] * MI[i, :]\n",
        "\n",
        "    # Paso e: Eliminar los elementos sobre la diagonal\n",
        "    for i in range(n-1, -1, -1):\n",
        "        for j in range(i-1, -1, -1):\n",
        "            MI[j, :] = MI[j, :] - MI[j, i] * MI[i, :]\n",
        "\n",
        "    # Paso g: Extraer la matriz inversa de [I|M^-1]\n",
        "    M_inv = MI[:, n:]\n",
        "\n",
        "    return M_inv\n",
        "\n",
        "def es_invertible(M):\n",
        "    return np.linalg.det(M) != 0\n"
      ]
    },
    {
      "cell_type": "markdown",
      "source": [
        "Matriz **100x100**"
      ],
      "metadata": {
        "id": "WedLL8jGB23B"
      }
    },
    {
      "cell_type": "code",
      "source": [
        "# Prueba con una matriz 100x100 generada aleatoriamente\n",
        "M2 = np.random.randint(1, 100, size=(100, 100))\n",
        "if es_invertible(M2):\n",
        "    M2_inv = inversa_matriz(M2)\n",
        "    print(\"Inversión exitosa para la matriz 100x100.\")\n",
        "else:\n",
        "    print(\"La matriz 100x100 no es invertible.\")"
      ],
      "metadata": {
        "colab": {
          "base_uri": "https://localhost:8080/"
        },
        "id": "fY1fxlgi_rjT",
        "outputId": "446fbcfe-bbf4-4d90-e464-e19169d8582c"
      },
      "execution_count": null,
      "outputs": [
        {
          "output_type": "stream",
          "name": "stdout",
          "text": [
            "Inversión exitosa para la matriz 100x100.\n"
          ]
        }
      ]
    },
    {
      "cell_type": "markdown",
      "source": [
        "Matrices del **problema 2**"
      ],
      "metadata": {
        "id": "8leMqLUfBdmJ"
      }
    },
    {
      "cell_type": "code",
      "source": [
        "# Primer matriz\n",
        "M1 = np.array([[4, -8, 5], [4, -7, 4], [3, -4, 2]])\n",
        "# Verificación e inversión de las matrices\n",
        "M1_inv = inversa_matriz(M1) if es_invertible(M1) else \"No invertible\"\n",
        "M1_inv"
      ],
      "metadata": {
        "colab": {
          "base_uri": "https://localhost:8080/"
        },
        "id": "T-uxoO_zAs37",
        "outputId": "7a49afed-bc92-4570-e48c-baae7d26dba8"
      },
      "execution_count": 14,
      "outputs": [
        {
          "output_type": "execute_result",
          "data": {
            "text/plain": [
              "array([[ 2., -4.,  3.],\n",
              "       [ 4., -7.,  4.],\n",
              "       [ 5., -8.,  4.]])"
            ]
          },
          "metadata": {},
          "execution_count": 14
        }
      ]
    },
    {
      "cell_type": "code",
      "source": [
        "# Segunda matriz\n",
        "M2 = np.array([[1, 2, 3], [4, 5, 6], [7, 8, 9]])\n",
        "# Verificación e inversión de las matrices\n",
        "M2_inv = inversa_matriz(M2) if es_invertible(M2) else \"No invertible\"\n",
        "M2_inv"
      ],
      "metadata": {
        "colab": {
          "base_uri": "https://localhost:8080/",
          "height": 36
        },
        "id": "rlH0_S_iBCny",
        "outputId": "e9a0ef8a-f9d5-4066-fe12-15567bb686a8"
      },
      "execution_count": 15,
      "outputs": [
        {
          "output_type": "execute_result",
          "data": {
            "text/plain": [
              "'No invertible'"
            ],
            "application/vnd.google.colaboratory.intrinsic+json": {
              "type": "string"
            }
          },
          "metadata": {},
          "execution_count": 15
        }
      ]
    }
  ]
}