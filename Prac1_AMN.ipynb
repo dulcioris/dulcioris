{
  "nbformat": 4,
  "nbformat_minor": 0,
  "metadata": {
    "colab": {
      "provenance": [],
      "authorship_tag": "ABX9TyOxIbatQccJx8pPcU0hX5Be",
      "include_colab_link": true
    },
    "kernelspec": {
      "name": "python3",
      "display_name": "Python 3"
    },
    "language_info": {
      "name": "python"
    }
  },
  "cells": [
    {
      "cell_type": "markdown",
      "metadata": {
        "id": "view-in-github",
        "colab_type": "text"
      },
      "source": [
        "<a href=\"https://colab.research.google.com/github/dulcioris/dulcioris/blob/main/Prac1_AMN.ipynb\" target=\"_parent\"><img src=\"https://colab.research.google.com/assets/colab-badge.svg\" alt=\"Open In Colab\"/></a>"
      ]
    },
    {
      "cell_type": "markdown",
      "source": [
        "# Problema 3"
      ],
      "metadata": {
        "id": "HfYeLXgIBmGt"
      }
    },
    {
      "cell_type": "markdown",
      "source": [
        "**Creando el código**"
      ],
      "metadata": {
        "id": "0havM-dWEPNu"
      }
    },
    {
      "cell_type": "code",
      "execution_count": null,
      "metadata": {
        "id": "TCuMn7GY-rk-"
      },
      "outputs": [],
      "source": [
        "import numpy as np\n",
        "\n",
        "def inversa_matriz(M):\n",
        "    n = M.shape[0]\n",
        "\n",
        "    # Paso a: Definir el arreglo [M|I]\n",
        "    I = np.identity(n)\n",
        "    MI = np.concatenate((M, I), axis=1)\n",
        "\n",
        "    # Paso b: Convertir el primer elemento de la primera fila en 1\n",
        "    for i in range(n):\n",
        "        # Dividir el renglón i por el primer elemento para hacer M[i,i] = 1\n",
        "        MI[i, :] = MI[i, :] / MI[i, i]\n",
        "\n",
        "        # Paso c y d: Eliminar los elementos debajo del primer elemento en la columna i\n",
        "        for j in range(i+1, n):\n",
        "            MI[j, :] = MI[j, :] - MI[j, i] * MI[i, :]\n",
        "\n",
        "    # Paso e: Eliminar los elementos sobre la diagonal\n",
        "    for i in range(n-1, -1, -1):\n",
        "        for j in range(i-1, -1, -1):\n",
        "            MI[j, :] = MI[j, :] - MI[j, i] * MI[i, :]\n",
        "\n",
        "    # Paso g: Extraer la matriz inversa de [I|M^-1]\n",
        "    M_inv = MI[:, n:]\n",
        "\n",
        "    return M_inv\n",
        "\n",
        "def es_invertible(M):\n",
        "    return np.linalg.det(M) != 0\n"
      ]
    },
    {
      "cell_type": "markdown",
      "source": [
        "Matriz **100x100**"
      ],
      "metadata": {
        "id": "WedLL8jGB23B"
      }
    },
    {
      "cell_type": "code",
      "source": [
        "# Prueba con una matriz 100x100 generada aleatoriamente\n",
        "M2 = np.random.randint(1, 100, size=(100, 100))\n",
        "if es_invertible(M2):\n",
        "    M2_inv = inversa_matriz(M2)\n",
        "    print(\"Inversión exitosa para la matriz 100x100.\")\n",
        "else:\n",
        "    print(\"La matriz 100x100 no es invertible.\")"
      ],
      "metadata": {
        "colab": {
          "base_uri": "https://localhost:8080/"
        },
        "id": "fY1fxlgi_rjT",
        "outputId": "446fbcfe-bbf4-4d90-e464-e19169d8582c"
      },
      "execution_count": null,
      "outputs": [
        {
          "output_type": "stream",
          "name": "stdout",
          "text": [
            "Inversión exitosa para la matriz 100x100.\n"
          ]
        }
      ]
    },
    {
      "cell_type": "markdown",
      "source": [
        "Matrices del **problema 2**"
      ],
      "metadata": {
        "id": "8leMqLUfBdmJ"
      }
    },
    {
      "cell_type": "code",
      "source": [
        "# Primer matriz\n",
        "M1 = np.array([[4, -8, 5], [4, -7, 4], [3, -4, 2]])\n",
        "# Verificación e inversión de las matrices\n",
        "M1_inv = inversa_matriz(M1) if es_invertible(M1) else \"No invertible\"\n",
        "M1_inv"
      ],
      "metadata": {
        "colab": {
          "base_uri": "https://localhost:8080/"
        },
        "id": "T-uxoO_zAs37",
        "outputId": "7a49afed-bc92-4570-e48c-baae7d26dba8"
      },
      "execution_count": null,
      "outputs": [
        {
          "output_type": "execute_result",
          "data": {
            "text/plain": [
              "array([[ 2., -4.,  3.],\n",
              "       [ 4., -7.,  4.],\n",
              "       [ 5., -8.,  4.]])"
            ]
          },
          "metadata": {},
          "execution_count": 14
        }
      ]
    },
    {
      "cell_type": "code",
      "source": [
        "# Segunda matriz\n",
        "M2 = np.array([[1, 2, 3], [4, 5, 6], [7, 8, 9]])\n",
        "# Verificación e inversión de las matrices\n",
        "M2_inv = inversa_matriz(M2) if es_invertible(M2) else \"No invertible\"\n",
        "M2_inv"
      ],
      "metadata": {
        "colab": {
          "base_uri": "https://localhost:8080/",
          "height": 36
        },
        "id": "rlH0_S_iBCny",
        "outputId": "e9a0ef8a-f9d5-4066-fe12-15567bb686a8"
      },
      "execution_count": null,
      "outputs": [
        {
          "output_type": "execute_result",
          "data": {
            "text/plain": [
              "'No invertible'"
            ],
            "application/vnd.google.colaboratory.intrinsic+json": {
              "type": "string"
            }
          },
          "metadata": {},
          "execution_count": 15
        }
      ]
    },
    {
      "cell_type": "markdown",
      "source": [
        "# Problema 4"
      ],
      "metadata": {
        "id": "TUPefdlltsxf"
      }
    },
    {
      "cell_type": "markdown",
      "source": [
        "**a) Escribe un código en python, usando la paquetería numpy, para separar una matriz M en las submatrices A, B, C y R, para algunos enteros n y m.**\n",
        "\n"
      ],
      "metadata": {
        "id": "g2YAkEPNtzaM"
      }
    },
    {
      "cell_type": "code",
      "source": [
        "import numpy as np\n",
        "\n",
        "def separar_matriz(M, n, m):\n",
        "    A = M[:n, :n]  # Submatriz A de tamaño n x n\n",
        "    C = M[:n, n:]  # Submatriz C de tamaño n x m\n",
        "    R = M[n:, :n]  # Submatriz R de tamaño m x n\n",
        "    B = M[n:, n:]  # Submatriz B de tamaño m x m\n",
        "    return A, B, C, R\n",
        "\n",
        "# Ejemplo de uso\n",
        "n, m = 2, 2\n",
        "M = np.array([[1, 2, 3, 4],\n",
        "              [5, 6, 7, 8],\n",
        "              [9, 10, 11, 12],\n",
        "              [13, 14, 15, 16]])\n",
        "\n",
        "A, B, C, R = separar_matriz(M, n, m)\n",
        "print(\"A:\\n\", A)\n",
        "print(\"B:\\n\", B)\n",
        "print(\"C:\\n\", C)\n",
        "print(\"R:\\n\", R)"
      ],
      "metadata": {
        "colab": {
          "base_uri": "https://localhost:8080/"
        },
        "id": "ljcbUEdvtxDD",
        "outputId": "7d795d33-c54e-4ce1-d9e2-d977843ad2cb"
      },
      "execution_count": null,
      "outputs": [
        {
          "output_type": "stream",
          "name": "stdout",
          "text": [
            "A:\n",
            " [[1 2]\n",
            " [5 6]]\n",
            "B:\n",
            " [[11 12]\n",
            " [15 16]]\n",
            "C:\n",
            " [[3 4]\n",
            " [7 8]]\n",
            "R:\n",
            " [[ 9 10]\n",
            " [13 14]]\n"
          ]
        }
      ]
    },
    {
      "cell_type": "markdown",
      "source": [
        "**b) Escribe un código para obtener los complementos de Schur de las las matrices A y B obtenidas en el inciso anterior. Puedes utilizar la función que escribiste en el problema 3 para obtener las matrices inversas correspondientes.**\n",
        "(en esta parte el código me regresa cosas raras)"
      ],
      "metadata": {
        "id": "q03AKO0Juq7e"
      }
    },
    {
      "cell_type": "code",
      "source": [
        "def schur_complementos(A, B, C, R):\n",
        "    A_inv = np.linalg.inv(A)  # Inversa de A\n",
        "    B_inv = np.linalg.inv(B)  # Inversa de B\n",
        "\n",
        "    S = B - R @ A_inv @ C  # Complemento de Schur de B\n",
        "    T = A - C @ B_inv @ R  # Complemento de Schur de A\n",
        "\n",
        "    return S, T\n",
        "\n",
        "# Ejemplo de uso\n",
        "S, T = schur_complementos(A, B, C, R)\n",
        "print(\"S:\\n\", S)\n",
        "print(\"T:\\n\", T)"
      ],
      "metadata": {
        "colab": {
          "base_uri": "https://localhost:8080/"
        },
        "id": "bVKXINISuw1g",
        "outputId": "4a448eea-54d3-4477-a060-b3f5d7dd3467"
      },
      "execution_count": null,
      "outputs": [
        {
          "output_type": "stream",
          "name": "stdout",
          "text": [
            "S:\n",
            " [[0.00000000e+00 1.77635684e-15]\n",
            " [7.10542736e-15 8.88178420e-15]]\n",
            "T:\n",
            " [[-1.42108547e-14 -1.06581410e-14]\n",
            " [-2.84217094e-14 -2.84217094e-14]]\n"
          ]
        }
      ]
    },
    {
      "cell_type": "code",
      "source": [
        "import numpy as np\n",
        "\n",
        "def separar_matriz(M, n, m):\n",
        "    A = M[:n, :n]\n",
        "    B = M[n:, n:]\n",
        "    C = M[:n, n:]\n",
        "    R = M[n:, :n]\n",
        "    return A, B, C, R\n",
        "\n",
        "def calcular_complementos_de_schur(A, B, C, R):\n",
        "    # Verificamos si A y B son invertibles antes de calcular los complementos\n",
        "    if np.linalg.det(A) == 0:\n",
        "        raise ValueError(\"La matriz A es singular y no se puede invertir.\")\n",
        "    if np.linalg.det(B) == 0:\n",
        "        raise ValueError(\"La matriz B es singular y no se puede invertir.\")\n",
        "\n",
        "    A_inv = np.linalg.inv(A)\n",
        "    B_inv = np.linalg.inv(B)\n",
        "\n",
        "    # Calculamos los complementos de Schur S y T\n",
        "    S = B - R @ A_inv @ C\n",
        "    T = A - C @ B_inv @ R\n",
        "\n",
        "    return S, T\n",
        "\n",
        "# Ejemplo de uso con una matriz no singular\n",
        "M = np.array([[4, 7, 2, 3],\n",
        "              [8, 10, 1, 5],\n",
        "              [6, 1, 3, 2],\n",
        "              [4, 5, 9, 7]])\n",
        "\n",
        "n, m = 2, 2\n",
        "A, B, C, R = separar_matriz(M, n, m)\n",
        "S, T = calcular_complementos_de_schur(A, B, C, R)\n",
        "\n",
        "print(\"S:\\n\", S)\n",
        "print(\"T:\\n\", T)"
      ],
      "metadata": {
        "colab": {
          "base_uri": "https://localhost:8080/"
        },
        "id": "Qug1j8f3wi4g",
        "outputId": "d36a10d5-c2b2-4b3c-c720-e97fd5842208"
      },
      "execution_count": null,
      "outputs": [
        {
          "output_type": "stream",
          "name": "stdout",
          "text": [
            "S:\n",
            " [[ 7.125 -0.125]\n",
            " [ 8.5    4.5  ]]\n",
            "T:\n",
            " [[23.33333333  3.        ]\n",
            " [66.66666667  1.        ]]\n"
          ]
        }
      ]
    },
    {
      "cell_type": "markdown",
      "source": [
        "**c) Escribe códigos para verificar que si A y S son no singulares**"
      ],
      "metadata": {
        "id": "hQRW-8YRu9qZ"
      }
    },
    {
      "cell_type": "code",
      "source": [
        "import numpy as np\n",
        "\n",
        "def verificar_igualdad_inversa(M, A, B, C, R):\n",
        "    # Verificar si la matriz M es singular\n",
        "    if np.linalg.det(M) == 0:\n",
        "        print(\"La matriz M es singular y no se puede invertir.\")\n",
        "        return False\n",
        "\n",
        "    # Calcular la inversa de A y S\n",
        "    A_inv = np.linalg.inv(A)\n",
        "    S = B - R @ A_inv @ C\n",
        "\n",
        "    # Verificar si S es singular\n",
        "    if np.linalg.det(S) == 0:\n",
        "        print(\"La matriz S es singular y no se puede invertir.\")\n",
        "        return False\n",
        "\n",
        "    S_inv = np.linalg.inv(S)\n",
        "\n",
        "    # Calcular la matriz inversa del bloque original\n",
        "    M_inv = np.linalg.inv(M)\n",
        "\n",
        "    # Calcular la inversa usando la expresión de la derecha\n",
        "    upper_left = A_inv + A_inv @ C @ S_inv @ R @ A_inv\n",
        "    upper_right = -A_inv @ C @ S_inv\n",
        "    lower_left = -S_inv @ R @ A_inv\n",
        "    lower_right = S_inv\n",
        "\n",
        "    # Construir la matriz inversa utilizando la fórmula de Schur\n",
        "    M_inv_schur = np.block([\n",
        "        [upper_left, upper_right],\n",
        "        [lower_left, lower_right]\n",
        "    ])\n",
        "\n",
        "    # Verificar si ambas matrices son iguales\n",
        "    return np.allclose(M_inv, M_inv_schur)\n",
        "\n",
        "# Ejemplo de uso\n",
        "M = np.array([[1, 2, 3, 4],\n",
        "              [5, 6, 7, 8],\n",
        "              [9, 10, 11, 12],\n",
        "              [13, 14, 15, 16]])\n",
        "\n",
        "n, m = 2, 2\n",
        "A, B, C, R = separar_matriz(M, n, m)\n",
        "es_igual = verificar_igualdad_inversa(M, A, B, C, R)\n",
        "print(\"¿La igualdad se cumple?:\", es_igual)"
      ],
      "metadata": {
        "colab": {
          "base_uri": "https://localhost:8080/"
        },
        "id": "2eRfwxDGwF9Y",
        "outputId": "50b3bbe1-f83c-4b30-a523-19acda2a13cd"
      },
      "execution_count": null,
      "outputs": [
        {
          "output_type": "stream",
          "name": "stdout",
          "text": [
            "La matriz M es singular y no se puede invertir.\n",
            "¿La igualdad se cumple?: False\n"
          ]
        }
      ]
    },
    {
      "cell_type": "markdown",
      "source": [
        "**d) Comparación Gauss-Jordan con Schur**"
      ],
      "metadata": {
        "id": "FDrN5zClxCy6"
      }
    },
    {
      "cell_type": "markdown",
      "source": [
        "Gauss-Jordan"
      ],
      "metadata": {
        "id": "AieUzeqPxULN"
      }
    },
    {
      "cell_type": "code",
      "source": [
        "import numpy as np\n",
        "import time\n",
        "\n",
        "def gauss_jordan(A):\n",
        "    n = len(A)\n",
        "    A = A.astype(float)\n",
        "\n",
        "    # Matriz identidad\n",
        "    I = np.eye(n)\n",
        "\n",
        "    # Concatenar A con la matriz identidad\n",
        "    AI = np.hstack((A, I))\n",
        "\n",
        "    for i in range(n):\n",
        "        # Verificar si el pivote es cero\n",
        "        if AI[i, i] == 0:\n",
        "            raise ValueError(\"La matriz es singular y no se puede invertir usando Gauss-Jordan.\")\n",
        "\n",
        "        # Normalizar la fila i\n",
        "        AI[i] = AI[i] / AI[i, i]\n",
        "\n",
        "        # Hacer ceros los demás elementos de la columna i\n",
        "        for j in range(n):\n",
        "            if i != j:\n",
        "                AI[j] = AI[j] - AI[j, i] * AI[i]\n",
        "\n",
        "    # Separar la matriz identidad modificada de la inversa\n",
        "    A_inv = AI[:, n:]\n",
        "\n",
        "    return A_inv\n",
        "\n",
        "# Ejemplo de uso con la matriz M\n",
        "M = np.array([[4, 7, 2, 3],\n",
        "              [8, 10, 1, 5],\n",
        "              [6, 1, 3, 2],\n",
        "              [4, 5, 9, 7]])\n",
        "\n",
        "try:\n",
        "    start_time = time.time()\n",
        "    M_inv_gj = gauss_jordan(M)\n",
        "    end_time = time.time()\n",
        "    print(\"Matriz inversa usando Gauss-Jordan:\\n\", M_inv_gj)\n",
        "    print(\"Tiempo con Gauss-Jordan: {:.6f} segundos\".format(end_time - start_time))\n",
        "except ValueError as e:\n",
        "    print(e)"
      ],
      "metadata": {
        "id": "ie64USF-y5wb",
        "colab": {
          "base_uri": "https://localhost:8080/"
        },
        "outputId": "037d3cdc-6268-4674-91b8-cf8f2127da44"
      },
      "execution_count": 14,
      "outputs": [
        {
          "output_type": "stream",
          "name": "stdout",
          "text": [
            "Matriz inversa usando Gauss-Jordan:\n",
            " [[-0.00566038  0.01698113  0.19056604 -0.06415094]\n",
            " [ 0.37735849 -0.13207547 -0.03773585 -0.05660377]\n",
            " [ 0.44150943 -0.3245283   0.13584906  0.00377358]\n",
            " [-0.83396226  0.50188679 -0.25660377  0.21509434]]\n",
            "Tiempo con Gauss-Jordan: 0.000786 segundos\n"
          ]
        }
      ]
    },
    {
      "cell_type": "markdown",
      "source": [
        "Schur"
      ],
      "metadata": {
        "id": "NWVADjSlxgDD"
      }
    },
    {
      "cell_type": "code",
      "source": [
        "import numpy as np\n",
        "import time\n",
        "\n",
        "def calcular_inversa_schur(A, B, C, R):\n",
        "    # Verificar si A y B son invertibles antes de continuar\n",
        "    if np.linalg.det(A) == 0:\n",
        "        raise ValueError(\"La matriz A es singular y no se puede invertir.\")\n",
        "    if np.linalg.det(B) == 0:\n",
        "        raise ValueError(\"La matriz B es singular y no se puede invertir.\")\n",
        "\n",
        "    A_inv = np.linalg.inv(A)\n",
        "    B_inv = np.linalg.inv(B)\n",
        "\n",
        "    # Calcular los complementos de Schur\n",
        "    S = B - R @ A_inv @ C\n",
        "    T = A - C @ B_inv @ R\n",
        "\n",
        "    # Verificar si S y T son invertibles antes de continuar\n",
        "    if np.linalg.det(S) == 0:\n",
        "        raise ValueError(\"La matriz S es singular y no se puede invertir.\")\n",
        "    if np.linalg.det(T) == 0:\n",
        "        raise ValueError(\"La matriz T es singular y no se puede invertir.\")\n",
        "\n",
        "    S_inv = np.linalg.inv(S)\n",
        "    T_inv = np.linalg.inv(T)\n",
        "\n",
        "    # Calcular la inversa de la matriz original usando Schur\n",
        "    upper_left = T_inv\n",
        "    upper_right = -T_inv @ C @ B_inv\n",
        "    lower_left = -B_inv @ R @ T_inv\n",
        "    lower_right = B_inv + B_inv @ R @ T_inv @ C @ B_inv\n",
        "\n",
        "    M_inv_schur = np.block([\n",
        "        [upper_left, upper_right],\n",
        "        [lower_left, lower_right]\n",
        "    ])\n",
        "\n",
        "    return M_inv_schur\n",
        "\n",
        "# Ejemplo de uso con la matriz M\n",
        "n, m = 2, 2\n",
        "A, B, C, R = separar_matriz(M, n, m)\n",
        "\n",
        "try:\n",
        "    start_time = time.time()\n",
        "    M_inv_schur = calcular_inversa_schur(A, B, C, R)\n",
        "    end_time = time.time()\n",
        "    print(\"Matriz inversa usando la fórmula de Schur:\\n\", M_inv_schur)\n",
        "    print(\"Tiempo con la fórmula de Schur: {:.6f} segundos\".format(end_time - start_time))\n",
        "except ValueError as e:\n",
        "    print(e)"
      ],
      "metadata": {
        "id": "00riGJfrzAZU",
        "colab": {
          "base_uri": "https://localhost:8080/"
        },
        "outputId": "4b4334d9-1689-4cc7-bc98-8a94d3738876"
      },
      "execution_count": 15,
      "outputs": [
        {
          "output_type": "stream",
          "name": "stdout",
          "text": [
            "Matriz inversa usando la fórmula de Schur:\n",
            " [[-0.00566038  0.01698113  0.19056604 -0.06415094]\n",
            " [ 0.37735849 -0.13207547 -0.03773585 -0.05660377]\n",
            " [ 0.44150943 -0.3245283   0.13584906  0.00377358]\n",
            " [-0.83396226  0.50188679 -0.25660377  0.21509434]]\n",
            "Tiempo con la fórmula de Schur: 0.000529 segundos\n"
          ]
        }
      ]
    },
    {
      "cell_type": "markdown",
      "source": [
        "Comparación de resultados"
      ],
      "metadata": {
        "id": "8ks87FhLzNP0"
      }
    },
    {
      "cell_type": "code",
      "source": [
        "# Comparar las inversas obtenidas\n",
        "if 'M_inv_gj' in locals() and 'M_inv_schur' in locals():\n",
        "    inversas_iguales = np.allclose(M_inv_gj, M_inv_schur)\n",
        "    print(\"¿La inversa es igual en ambos métodos?:\", inversas_iguales)\n",
        "else:\n",
        "    print(\"No se pudieron calcular las inversas con ambos métodos debido a matrices singulares.\")"
      ],
      "metadata": {
        "id": "KgovYyIozQGX",
        "colab": {
          "base_uri": "https://localhost:8080/"
        },
        "outputId": "f3147b13-73ca-47e7-bded-d19515af812d"
      },
      "execution_count": 16,
      "outputs": [
        {
          "output_type": "stream",
          "name": "stdout",
          "text": [
            "¿La inversa es igual en ambos métodos?: True\n"
          ]
        }
      ]
    }
  ]
}